{
  "nbformat": 4,
  "nbformat_minor": 0,
  "metadata": {
    "colab": {
      "provenance": []
    },
    "kernelspec": {
      "name": "python3",
      "display_name": "Python 3"
    },
    "language_info": {
      "name": "python"
    }
  },
  "cells": [
    {
      "cell_type": "markdown",
      "source": [
        "#<font color = orange> Projeto individual 4\n",
        "- Este relatório tem o objetivo de demonstrar a importância da análise dos dados de um projeto de desenvolvimento de software ao longo de uma semana.\n",
        "\n",
        "- Os dados fornecidos permitirão ao proprietário da equipe de desenvolvimento obter insights sobre o progresso do projeto, identificar possíveis áreas de melhoria e tomar decisões informadas para garantir o sucesso do projeto."
      ],
      "metadata": {
        "id": "RJgl8n3QDBL7"
      }
    },
    {
      "cell_type": "markdown",
      "source": [
        "<br>\n",
        "\n",
        "---\n",
        "-"
      ],
      "metadata": {
        "id": "jkht7jHZOznX"
      }
    },
    {
      "cell_type": "code",
      "source": [
        "# Nesta parte do código, é importando a biblioteca pandas.\n",
        "import pandas as pd"
      ],
      "metadata": {
        "id": "T77JzftpDdPc"
      },
      "execution_count": 1,
      "outputs": []
    },
    {
      "cell_type": "markdown",
      "source": [
        "<br>\n",
        "\n",
        "---\n",
        "-"
      ],
      "metadata": {
        "id": "WhNRJK7dPFZ5"
      }
    },
    {
      "cell_type": "code",
      "source": [
        "# Nesta parte do código, é definindo um dicionário chamado dados\n",
        "# que contém informações sobre as atividades realizadas em cada dia da semana.\n",
        "dados = {\n",
        "    'Dias': ['segunda', 'terça', 'quarta', 'quinta', 'sexta', 'sábado', 'domingo'],\n",
        "    'Horas Trabalhadas': [6, 7, 8, 6, 7, 5, 6],\n",
        "    'Bugs Corrigidos': [3, 2, 1, 4, 3, 2, 1],\n",
        "    'Tarefas Concluídas': [5, 4, 6, 4, 5, 3, 2]\n",
        "}"
      ],
      "metadata": {
        "id": "lnvQ-txcDhy-"
      },
      "execution_count": 2,
      "outputs": []
    },
    {
      "cell_type": "markdown",
      "source": [
        "<br>\n",
        "\n",
        "---\n",
        "-"
      ],
      "metadata": {
        "id": "kvgzm8xQPVwt"
      }
    },
    {
      "cell_type": "code",
      "source": [
        "# Nesta parte do código, é utilizado a biblioteca pandas para criar um DataFrame a partir do dicionário dados.\n",
        "DataFrame = pd.DataFrame(dados)"
      ],
      "metadata": {
        "id": "W-llJ8MRDkWa"
      },
      "execution_count": 3,
      "outputs": []
    },
    {
      "cell_type": "markdown",
      "source": [
        "<br>\n",
        "\n",
        "---\n",
        "-"
      ],
      "metadata": {
        "id": "0KlfZDuENuqI"
      }
    },
    {
      "cell_type": "code",
      "source": [
        "# Nesta parte do código, estamos calculando o total de horas trabalhadas dos os dias da semana.\n",
        "total_horas_trabalhadas = DataFrame['Horas Trabalhadas'].sum()\n",
        "total_horas_trabalhadas"
      ],
      "metadata": {
        "id": "Pp1Y3tniDmkF",
        "colab": {
          "base_uri": "https://localhost:8080/"
        },
        "outputId": "598c426e-d285-4c88-a54f-3643562fcab2"
      },
      "execution_count": 4,
      "outputs": [
        {
          "output_type": "execute_result",
          "data": {
            "text/plain": [
              "45"
            ]
          },
          "metadata": {},
          "execution_count": 4
        }
      ]
    },
    {
      "cell_type": "markdown",
      "source": [
        "<br>\n",
        "\n",
        "---\n",
        "-"
      ],
      "metadata": {
        "id": "gaAHrsLXNARc"
      }
    },
    {
      "cell_type": "code",
      "source": [
        "# Nesta parte do código, é calculado a média diária de horas trabalhadas e imprimindo o resultado formatado com duas casas decimais.\n",
        "media_diaria_horas_trabalhadas = DataFrame['Horas Trabalhadas'].mean()\n",
        "print(f'{media_diaria_horas_trabalhadas:.2f}')"
      ],
      "metadata": {
        "id": "koKn_CBWEGf2",
        "colab": {
          "base_uri": "https://localhost:8080/"
        },
        "outputId": "bbaf001c-4250-4738-de1d-073aaa8a6a5a"
      },
      "execution_count": 5,
      "outputs": [
        {
          "output_type": "stream",
          "name": "stdout",
          "text": [
            "6.43\n"
          ]
        }
      ]
    },
    {
      "cell_type": "markdown",
      "source": [
        "<br>\n",
        "\n",
        "---\n",
        "-"
      ],
      "metadata": {
        "id": "WHjAZMXbM0TS"
      }
    },
    {
      "cell_type": "code",
      "source": [
        "# Nesta parte do código, é calculado o total de bugs corrigidos dos dias da semana.\n",
        "total_bugs_corrigidos = DataFrame['Bugs Corrigidos'].sum()\n",
        "total_bugs_corrigidos"
      ],
      "metadata": {
        "id": "huUYjwINEIC1",
        "colab": {
          "base_uri": "https://localhost:8080/"
        },
        "outputId": "f1587f1d-2765-45e3-8332-84e2b8607539"
      },
      "execution_count": 6,
      "outputs": [
        {
          "output_type": "execute_result",
          "data": {
            "text/plain": [
              "16"
            ]
          },
          "metadata": {},
          "execution_count": 6
        }
      ]
    },
    {
      "cell_type": "markdown",
      "source": [
        "<br>\n",
        "\n",
        "---\n",
        "-"
      ],
      "metadata": {
        "id": "sBAsPbA5MkLo"
      }
    },
    {
      "cell_type": "code",
      "source": [
        "# Nesta parte do código, é calculado a média diária de bugs corrigidos e imprimindo o resultado formatado com duas casas decimais.\n",
        "media_diaria_bugs_corrigidos = DataFrame['Bugs Corrigidos'].mean()\n",
        "print(f'{media_diaria_bugs_corrigidos:.2f}')"
      ],
      "metadata": {
        "id": "iebKQuucEK5Z",
        "colab": {
          "base_uri": "https://localhost:8080/"
        },
        "outputId": "a63d5e09-3e2e-430b-a240-bc0e23698be1"
      },
      "execution_count": 7,
      "outputs": [
        {
          "output_type": "stream",
          "name": "stdout",
          "text": [
            "2.29\n"
          ]
        }
      ]
    },
    {
      "cell_type": "markdown",
      "source": [
        "<br>\n",
        "\n",
        "---\n",
        "-"
      ],
      "metadata": {
        "id": "k6IHUTD1MHvL"
      }
    },
    {
      "cell_type": "code",
      "source": [
        "# Nesta parte do código, é calculando o total de tarefas concluídas em todos os dias da semana.\n",
        "total_tarefas_concluidas = DataFrame['Tarefas Concluídas'].sum()\n",
        "total_tarefas_concluidas"
      ],
      "metadata": {
        "id": "PUV4AIUREMtB",
        "colab": {
          "base_uri": "https://localhost:8080/"
        },
        "outputId": "5770d823-4155-444d-b2b4-d0cf7827d58a"
      },
      "execution_count": 8,
      "outputs": [
        {
          "output_type": "execute_result",
          "data": {
            "text/plain": [
              "29"
            ]
          },
          "metadata": {},
          "execution_count": 8
        }
      ]
    },
    {
      "cell_type": "markdown",
      "source": [
        "<br>\n",
        "\n",
        "---\n",
        "-\n"
      ],
      "metadata": {
        "id": "RzJpBh0dLHGQ"
      }
    },
    {
      "cell_type": "code",
      "source": [
        "# Nesta parte do código, é calculado a média diária de tarefas concluídas imprimindo o resultado formatado com duas casas decimais.\n",
        "media_diaria_tarefas_concluidas = DataFrame['Tarefas Concluídas'].mean()\n",
        "print(f'{media_diaria_tarefas_concluidas:.2f}')"
      ],
      "metadata": {
        "id": "lsjjzTi8EObP",
        "colab": {
          "base_uri": "https://localhost:8080/"
        },
        "outputId": "f8cfc503-819a-4bca-ff5a-e50865c9c960"
      },
      "execution_count": 9,
      "outputs": [
        {
          "output_type": "stream",
          "name": "stdout",
          "text": [
            "4.14\n"
          ]
        }
      ]
    },
    {
      "cell_type": "markdown",
      "source": [
        "<br>\n",
        "\n",
        "\n",
        "\n",
        "\n",
        "\n",
        "---\n",
        "-"
      ],
      "metadata": {
        "id": "Bklbtfg2KMXH"
      }
    },
    {
      "cell_type": "code",
      "source": [
        "# Nessa parte do código, divide o número de \"Tarefas Concluídas\" pelo número de \"Horas Trabalhadas\" para cada dia da semana no DataFrame.\n",
        "produtividade_diaria = DataFrame['Tarefas Concluídas'] / DataFrame['Horas Trabalhadas']\n",
        "produtividade_diaria"
      ],
      "metadata": {
        "id": "C9W37cvuESt_",
        "colab": {
          "base_uri": "https://localhost:8080/"
        },
        "outputId": "7dce0633-8be8-43ba-a68e-052010781758"
      },
      "execution_count": 10,
      "outputs": [
        {
          "output_type": "execute_result",
          "data": {
            "text/plain": [
              "0    0.833333\n",
              "1    0.571429\n",
              "2    0.750000\n",
              "3    0.666667\n",
              "4    0.714286\n",
              "5    0.600000\n",
              "6    0.333333\n",
              "dtype: float64"
            ]
          },
          "metadata": {},
          "execution_count": 10
        }
      ]
    }
  ]
}