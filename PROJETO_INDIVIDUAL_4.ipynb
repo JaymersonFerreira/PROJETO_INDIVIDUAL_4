{
  "nbformat": 4,
  "nbformat_minor": 0,
  "metadata": {
    "colab": {
      "provenance": [],
      "authorship_tag": "ABX9TyPXMdp4Ry+gwJSPBgejNWS6",
      "include_colab_link": true
    },
    "kernelspec": {
      "name": "python3",
      "display_name": "Python 3"
    },
    "language_info": {
      "name": "python"
    }
  },
  "cells": [
    {
      "cell_type": "markdown",
      "metadata": {
        "id": "view-in-github",
        "colab_type": "text"
      },
      "source": [
        "<a href=\"https://colab.research.google.com/github/JaymersonFerreira/JaymersonFerreira/blob/main/PROJETO_INDIVIDUAL_4.ipynb\" target=\"_parent\"><img src=\"https://colab.research.google.com/assets/colab-badge.svg\" alt=\"Open In Colab\"/></a>"
      ]
    },
    {
      "cell_type": "markdown",
      "source": [
        "#<font color = orange> Projeto individual 4\n",
        "- Este relatório tem o objetivo de demonstrar a importância da análise dos dados de um projeto de desenvolvimento de software ao longo de uma semana.\n",
        "\n",
        "- Os dados fornecidos permitirão ao proprietário da equipe de desenvolvimento obter insights sobre o progresso do projeto, identificar possíveis áreas de melhoria e tomar decisões informadas para\n",
        "garantir o sucesso do projeto."
      ],
      "metadata": {
        "id": "RJgl8n3QDBL7"
      }
    },
    {
      "cell_type": "markdown",
      "source": [
        "<br>\n",
        "\n",
        "---\n",
        "- Nesta paste do código, é importando a biblioteca pandas."
      ],
      "metadata": {
        "id": "jkht7jHZOznX"
      }
    },
    {
      "cell_type": "code",
      "source": [
        "#importando a biblioteca padas\n",
        "import pandas as pd"
      ],
      "metadata": {
        "id": "T77JzftpDdPc"
      },
      "execution_count": 2,
      "outputs": []
    },
    {
      "cell_type": "markdown",
      "source": [
        "<br>\n",
        "\n",
        "---\n",
        "- Nesta parte do código, é definindo um dicionário chamado dados, que contém informações sobre as atividades realizadas em cada dia da semana."
      ],
      "metadata": {
        "id": "WhNRJK7dPFZ5"
      }
    },
    {
      "cell_type": "code",
      "source": [
        "# Dados\n",
        "dados = {\n",
        "    'Dias': ['segunda', 'terça', 'quarta', 'quinta', 'sexta', 'sábado', 'domingo'],\n",
        "    'Horas Trabalhadas': [6, 7, 8, 6, 7, 5, 6],\n",
        "    'Bugs Corrigidos': [3, 2, 1, 4, 3, 2, 1],\n",
        "    'Tarefas Concluídas': [5, 4, 6, 4, 5, 3, 2]\n",
        "}"
      ],
      "metadata": {
        "id": "lnvQ-txcDhy-"
      },
      "execution_count": 3,
      "outputs": []
    },
    {
      "cell_type": "markdown",
      "source": [
        "<br>\n",
        "\n",
        "---\n",
        "- Nesta parte do código, é utilizado a biblioteca pandas para criar um DataFrame a partir do dicionário dados."
      ],
      "metadata": {
        "id": "kvgzm8xQPVwt"
      }
    },
    {
      "cell_type": "code",
      "source": [
        "# DataFrame\n",
        "DataFrame = pd.DataFrame(dados)"
      ],
      "metadata": {
        "id": "W-llJ8MRDkWa"
      },
      "execution_count": 5,
      "outputs": []
    },
    {
      "cell_type": "markdown",
      "source": [
        "<br>\n",
        "\n",
        "---\n",
        "- Nesta parte do código, estamos calculando o total de horas trabalhadas dos os dias da semana."
      ],
      "metadata": {
        "id": "0KlfZDuENuqI"
      }
    },
    {
      "cell_type": "code",
      "source": [
        "# Total de horas\n",
        "total_horas_trabalhadas = DataFrame['Horas Trabalhadas'].sum()\n",
        "total_horas_trabalhadas"
      ],
      "metadata": {
        "id": "Pp1Y3tniDmkF"
      },
      "execution_count": null,
      "outputs": []
    },
    {
      "cell_type": "markdown",
      "source": [
        "<br>\n",
        "\n",
        "---\n",
        "- Nesta parte do código, é calculado a média diária de horas trabalhadas e imprimindo o resultado formatado com duas casas decimais."
      ],
      "metadata": {
        "id": "gaAHrsLXNARc"
      }
    },
    {
      "cell_type": "code",
      "source": [
        "# Média de horas\n",
        "media_diaria_horas_trabalhadas = DataFrame['Horas Trabalhadas'].mean()\n",
        "print(f'{media_diaria_horas_trabalhadas:.2f}')"
      ],
      "metadata": {
        "id": "koKn_CBWEGf2"
      },
      "execution_count": null,
      "outputs": []
    },
    {
      "cell_type": "markdown",
      "source": [
        "<br>\n",
        "\n",
        "---\n",
        "- Nesta parte do código, é calculado o total de bugs corrigidos dos dias da semana."
      ],
      "metadata": {
        "id": "WHjAZMXbM0TS"
      }
    },
    {
      "cell_type": "code",
      "source": [
        "# Total de bus\n",
        "total_bugs_corrigidos = DataFrame['Bugs Corrigidos'].sum()\n",
        "total_bugs_corrigidos"
      ],
      "metadata": {
        "id": "huUYjwINEIC1"
      },
      "execution_count": null,
      "outputs": []
    },
    {
      "cell_type": "markdown",
      "source": [
        "<br>\n",
        "\n",
        "---\n",
        "- Nesta parte do código, é calculado a média diária de bugs corrigidos e imprimindo o resultado formatado com duas casas decimais."
      ],
      "metadata": {
        "id": "sBAsPbA5MkLo"
      }
    },
    {
      "cell_type": "code",
      "source": [
        "# Média de bug\n",
        "media_diaria_bugs_corrigidos = DataFrame['Bugs Corrigidos'].mean()\n",
        "print(f'{media_diaria_bugs_corrigidos:.2f}')"
      ],
      "metadata": {
        "id": "iebKQuucEK5Z"
      },
      "execution_count": null,
      "outputs": []
    },
    {
      "cell_type": "markdown",
      "source": [
        "<br>\n",
        "\n",
        "---\n",
        "- Nesta parte do código, é calculando o total de tarefas concluídas em todos os dias da semana."
      ],
      "metadata": {
        "id": "k6IHUTD1MHvL"
      }
    },
    {
      "cell_type": "code",
      "source": [
        "# Total de tarefas\n",
        "total_tarefas_concluidas = DataFrame['Tarefas Concluídas'].sum()\n",
        "total_tarefas_concluidas"
      ],
      "metadata": {
        "id": "PUV4AIUREMtB"
      },
      "execution_count": null,
      "outputs": []
    },
    {
      "cell_type": "markdown",
      "source": [
        "<br>\n",
        "\n",
        "---\n",
        "- Nesta parte do código, é calculado a média diária de tarefas concluídas imprimindo o resultado formatado com duas casas decimais.\n",
        "\n"
      ],
      "metadata": {
        "id": "RzJpBh0dLHGQ"
      }
    },
    {
      "cell_type": "code",
      "source": [
        "#Media tarefas diarias\n",
        "media_diaria_tarefas_concluidas = DataFrame['Tarefas Concluídas'].mean()\n",
        "print(f'{media_diaria_tarefas_concluidas:.2f}')"
      ],
      "metadata": {
        "id": "lsjjzTi8EObP"
      },
      "execution_count": null,
      "outputs": []
    },
    {
      "cell_type": "markdown",
      "source": [
        "<br>\n",
        "\n",
        "\n",
        "\n",
        "\n",
        "\n",
        "---\n",
        "- Nessa parte do código, divide o número de \"Tarefas Concluídas\" pelo número de \"Horas Trabalhadas\" para cada dia da semana no DataFrame."
      ],
      "metadata": {
        "id": "Bklbtfg2KMXH"
      }
    },
    {
      "cell_type": "code",
      "source": [
        "# Produtividade diaria\n",
        "produtividade_diaria = DataFrame['Tarefas Concluídas'] / DataFrame['Horas Trabalhadas']\n",
        "produtividade_diaria"
      ],
      "metadata": {
        "id": "C9W37cvuESt_"
      },
      "execution_count": null,
      "outputs": []
    }
  ]
}